{
 "cells": [
  {
   "cell_type": "code",
   "execution_count": 132,
   "id": "a24fade8-6158-4e3b-bd1b-51ac31b0d9b2",
   "metadata": {},
   "outputs": [],
   "source": [
    "import pandas as pd\n",
    "import numpy as np\n",
    "import matplotlib.pyplot as plt\n",
    "import seaborn as sns\n",
    "from sklearn.model_selection import train_test_split\n",
    "from sklearn.neighbors import KNeighborsClassifier\n",
    "import warnings\n",
    "warnings.filterwarnings(\"ignore\")\n",
    "from scipy import stats\n",
    "import statsmodels.api as sm\n"
   ]
  },
  {
   "cell_type": "code",
   "execution_count": 133,
   "id": "e65a3c5b-b094-4a4d-8338-93e3942575fd",
   "metadata": {},
   "outputs": [
    {
     "data": {
      "text/html": [
       "<div>\n",
       "<style scoped>\n",
       "    .dataframe tbody tr th:only-of-type {\n",
       "        vertical-align: middle;\n",
       "    }\n",
       "\n",
       "    .dataframe tbody tr th {\n",
       "        vertical-align: top;\n",
       "    }\n",
       "\n",
       "    .dataframe thead th {\n",
       "        text-align: right;\n",
       "    }\n",
       "</style>\n",
       "<table border=\"1\" class=\"dataframe\">\n",
       "  <thead>\n",
       "    <tr style=\"text-align: right;\">\n",
       "      <th></th>\n",
       "      <th>y</th>\n",
       "      <th>x1</th>\n",
       "      <th>x2</th>\n",
       "      <th>x3</th>\n",
       "    </tr>\n",
       "  </thead>\n",
       "  <tbody>\n",
       "    <tr>\n",
       "      <th>0</th>\n",
       "      <td>1</td>\n",
       "      <td>1.004</td>\n",
       "      <td>0.090</td>\n",
       "      <td>-0.125</td>\n",
       "    </tr>\n",
       "    <tr>\n",
       "      <th>1</th>\n",
       "      <td>1</td>\n",
       "      <td>1.004</td>\n",
       "      <td>-0.043</td>\n",
       "      <td>-0.125</td>\n",
       "    </tr>\n",
       "    <tr>\n",
       "      <th>2</th>\n",
       "      <td>1</td>\n",
       "      <td>0.969</td>\n",
       "      <td>0.090</td>\n",
       "      <td>-0.121</td>\n",
       "    </tr>\n",
       "    <tr>\n",
       "      <th>3</th>\n",
       "      <td>1</td>\n",
       "      <td>0.973</td>\n",
       "      <td>-0.012</td>\n",
       "      <td>-0.137</td>\n",
       "    </tr>\n",
       "    <tr>\n",
       "      <th>4</th>\n",
       "      <td>1</td>\n",
       "      <td>1.000</td>\n",
       "      <td>-0.016</td>\n",
       "      <td>-0.121</td>\n",
       "    </tr>\n",
       "  </tbody>\n",
       "</table>\n",
       "</div>"
      ],
      "text/plain": [
       "   y     x1     x2     x3\n",
       "0  1  1.004  0.090 -0.125\n",
       "1  1  1.004 -0.043 -0.125\n",
       "2  1  0.969  0.090 -0.121\n",
       "3  1  0.973 -0.012 -0.137\n",
       "4  1  1.000 -0.016 -0.121"
      ]
     },
     "execution_count": 133,
     "metadata": {},
     "output_type": "execute_result"
    }
   ],
   "source": [
    "df = pd.read_csv('accelerometer.csv')\n",
    "df.head()"
   ]
  },
  {
   "cell_type": "code",
   "execution_count": 134,
   "id": "2e3d4925-f12e-48ac-9d40-dd23bff34db8",
   "metadata": {},
   "outputs": [
    {
     "name": "stdout",
     "output_type": "stream",
     "text": [
      "<class 'pandas.core.frame.DataFrame'>\n",
      "RangeIndex: 153000 entries, 0 to 152999\n",
      "Data columns (total 4 columns):\n",
      " #   Column  Non-Null Count   Dtype  \n",
      "---  ------  --------------   -----  \n",
      " 0   y       153000 non-null  int64  \n",
      " 1   x1      153000 non-null  float64\n",
      " 2   x2      153000 non-null  float64\n",
      " 3   x3      153000 non-null  float64\n",
      "dtypes: float64(3), int64(1)\n",
      "memory usage: 4.7 MB\n"
     ]
    }
   ],
   "source": [
    "df.info()"
   ]
  },
  {
   "cell_type": "code",
   "execution_count": 135,
   "id": "cad19500-23c9-476d-a9f7-46e607b22e8e",
   "metadata": {},
   "outputs": [],
   "source": [
    "# fungsi untuk mencari quantile dan outliers\n",
    "def find_outliers(data):\n",
    "    \n",
    "    #Hitung nilai Q1 dan Q3\n",
    "    Q1 = np.quantile(data , .25)\n",
    "    Q3 = np.quantile(data, .75)\n",
    "    \n",
    "    # Hitung nilai IQR\n",
    "    IQR = Q3 - Q1\n",
    "    min_IQR = Q1 - 1.5 * IQR\n",
    "    max_IQR = Q3 + 1.5 * IQR\n",
    "    \n",
    "    # Looping dan append outliers\n",
    "    lower_out = []\n",
    "    upper_out = []\n",
    "    \n",
    "    for i in data:\n",
    "        if(i < min_IQR):\n",
    "            lower_out.append(i)\n",
    "        elif(i > max_IQR):\n",
    "            upper_out.append(i)\n",
    "            \n",
    "    return lower_out, upper_out"
   ]
  },
  {
   "cell_type": "code",
   "execution_count": 136,
   "id": "e226fef2-2ac1-4412-ab69-ea017b95410e",
   "metadata": {},
   "outputs": [
    {
     "data": {
      "image/png": "[encoded data removed]",
      "text/plain": [
       "<Figure size 432x288 with 1 Axes>"
      ]
     },
     "metadata": {
      "needs_background": "light"
     },
     "output_type": "display_data"
    }
   ],
   "source": [
    "sns.boxplot(df[\"y\"])\n",
    "plt.show()"
   ]
  },
  {
   "cell_type": "code",
   "execution_count": 37,
   "id": "bd25908d-e383-4090-b51e-f9f6199a0c87",
   "metadata": {},
   "outputs": [
    {
     "data": {
      "image/png": "[encoded data removed]",
      "text/plain": [
       "<Figure size 432x288 with 1 Axes>"
      ]
     },
     "metadata": {
      "needs_background": "light"
     },
     "output_type": "display_data"
    }
   ],
   "source": [
    "sns.boxplot(df[\"x1\"])\n",
    "plt.show()"
   ]
  },
  {
   "cell_type": "code",
   "execution_count": 38,
   "id": "5cb964da-e3db-4c66-bdb9-bc83ed8354e2",
   "metadata": {},
   "outputs": [],
   "source": [
    "# cari outliers dengan fungsi IQR\n",
    "lower_out = find_outliers(df[\"x1\"])[0]\n",
    "upper_out = find_outliers(df[\"x1\"])[1]"
   ]
  },
  {
   "cell_type": "code",
   "execution_count": 39,
   "id": "131df36e-ca7d-4be2-b21f-88055b88422c",
   "metadata": {},
   "outputs": [
    {
     "name": "stdout",
     "output_type": "stream",
     "text": [
      "Jumlah Outliers: 37984\n"
     ]
    }
   ],
   "source": [
    "# cek jumlah outliers\n",
    "outliers = len(lower_out) + len(upper_out)\n",
    "print(\"Jumlah Outliers:\", outliers)"
   ]
  },
  {
   "cell_type": "code",
   "execution_count": 40,
   "id": "897e6156-11a0-450d-a25d-9107b126cdce",
   "metadata": {},
   "outputs": [
    {
     "name": "stdout",
     "output_type": "stream",
     "text": [
      "Jumlah Data : 153000\n",
      "Jumlah Outliers : 37984\n",
      "Perc Outliers : 24.83 %\n"
     ]
    }
   ],
   "source": [
    "# cek presentase outliers\n",
    "print(\"Jumlah Data :\", len(df))\n",
    "print(\"Jumlah Outliers :\", outliers)\n",
    "print(\"Perc Outliers :\", round((outliers/len(df))*100,2),\"%\")"
   ]
  },
  {
   "cell_type": "code",
   "execution_count": 41,
   "id": "ab6d8032-f432-4116-b12d-c69ff074bcf8",
   "metadata": {},
   "outputs": [
    {
     "name": "stdout",
     "output_type": "stream",
     "text": [
      "Upper Limit: 1.18\n"
     ]
    }
   ],
   "source": [
    "# Hitung nilai IQR dan batas atas\n",
    "iqr = df[\"x1\"].quantile(.75) - df['x1'].quantile(.25)\n",
    "upper_limit = df[\"x1\"].quantile(.75) + 1.5 * iqr\n",
    "\n",
    "print(\"Upper Limit:\", upper_limit)"
   ]
  },
  {
   "cell_type": "code",
   "execution_count": 42,
   "id": "c8dda57c-a4f7-4f13-91cc-f4daa724a52c",
   "metadata": {},
   "outputs": [
    {
     "data": {
      "text/plain": [
       "1.016"
      ]
     },
     "execution_count": 42,
     "metadata": {},
     "output_type": "execute_result"
    }
   ],
   "source": [
    "# cari batas quantile untuk winsorize\n",
    "df[\"x1\"].quantile(.65)"
   ]
  },
  {
   "cell_type": "code",
   "execution_count": 43,
   "id": "b418f2d6-91d6-4865-a409-82cf40d774af",
   "metadata": {},
   "outputs": [],
   "source": [
    "# gunakan winsorize dengan bantuan scipy\n",
    "df[\"x1\"] = stats.mstats.winsorize(df[\"x1\"], limits = (0, 0.35))"
   ]
  },
  {
   "cell_type": "code",
   "execution_count": 44,
   "id": "a86be567-44ef-4689-90d4-2cf9842a6ef8",
   "metadata": {},
   "outputs": [
    {
     "data": {
      "image/png": "[encoded data removed]",
      "text/plain": [
       "<Figure size 432x288 with 1 Axes>"
      ]
     },
     "metadata": {
      "needs_background": "light"
     },
     "output_type": "display_data"
    }
   ],
   "source": [
    "# visualisasi dengan boxplot\n",
    "sns.boxplot(data = df[\"x1\"], palette = \"Accent\", orient = 'h')\n",
    "plt.show()"
   ]
  },
  {
   "cell_type": "code",
   "execution_count": 48,
   "id": "b9e7b851-d050-40c0-949b-700275074064",
   "metadata": {},
   "outputs": [
    {
     "name": "stdout",
     "output_type": "stream",
     "text": [
      "Lower Limit: 0.8384999999999998\n"
     ]
    }
   ],
   "source": [
    "# Hitung nilai IQR dan batas atas\n",
    "iqr = df[\"x1\"].quantile(.25) - df['x1'].quantile(.75)\n",
    "lower_limit = df[\"x1\"].quantile(.25) + 1.5 * iqr\n",
    "\n",
    "print(\"Lower Limit:\", lower_limit)"
   ]
  },
  {
   "cell_type": "code",
   "execution_count": 54,
   "id": "aacc16cd-1420-4ed6-b889-06223befc5a9",
   "metadata": {},
   "outputs": [
    {
     "data": {
      "text/plain": [
       "0.816"
      ]
     },
     "execution_count": 54,
     "metadata": {},
     "output_type": "execute_result"
    }
   ],
   "source": [
    "# cari batas quantile untuk winsorize\n",
    "df[\"x1\"].quantile(.13)"
   ]
  },
  {
   "cell_type": "code",
   "execution_count": 58,
   "id": "c51221c7-71ea-481d-9563-0f0b84405d9b",
   "metadata": {},
   "outputs": [],
   "source": [
    "# gunakan winsorize dengan bantuan scipy\n",
    "df[\"x1\"] = stats.mstats.winsorize(df[\"x1\"], limits = (0.87, 0))"
   ]
  },
  {
   "cell_type": "code",
   "execution_count": 59,
   "id": "74adb5a4-6b78-43b8-8355-c8530e65c173",
   "metadata": {},
   "outputs": [
    {
     "data": {
      "image/png": "[encoded data removed]",
      "text/plain": [
       "<Figure size 432x288 with 1 Axes>"
      ]
     },
     "metadata": {
      "needs_background": "light"
     },
     "output_type": "display_data"
    }
   ],
   "source": [
    "# visualisasi dengan boxplot\n",
    "sns.boxplot(data = df[\"x1\"], palette = \"Accent\", orient = 'h')\n",
    "plt.show()"
   ]
  },
  {
   "cell_type": "code",
   "execution_count": 60,
   "id": "92c3adf9-f9a4-439b-a1d6-6b8422a42385",
   "metadata": {},
   "outputs": [
    {
     "data": {
      "image/png": "[encoded data removed]",
      "text/plain": [
       "<Figure size 432x288 with 1 Axes>"
      ]
     },
     "metadata": {
      "needs_background": "light"
     },
     "output_type": "display_data"
    }
   ],
   "source": [
    "sns.boxplot(df[\"x2\"])\n",
    "plt.show()"
   ]
  },
  {
   "cell_type": "code",
   "execution_count": 61,
   "id": "817e8a0c-c8b0-454e-b184-e4bb99a7594c",
   "metadata": {},
   "outputs": [],
   "source": [
    "# cari outliers dengan fungsi IQR\n",
    "lower_out = find_outliers(df[\"x2\"])[0]\n",
    "upper_out = find_outliers(df[\"x2\"])[1]"
   ]
  },
  {
   "cell_type": "code",
   "execution_count": 62,
   "id": "ea951592-1329-4ba5-b288-19c56db6e50f",
   "metadata": {},
   "outputs": [
    {
     "name": "stdout",
     "output_type": "stream",
     "text": [
      "Jumlah Outliers: 30135\n"
     ]
    }
   ],
   "source": [
    "# cek jumlah outliers\n",
    "outliers = len(lower_out) + len(upper_out)\n",
    "print(\"Jumlah Outliers:\", outliers)"
   ]
  },
  {
   "cell_type": "code",
   "execution_count": 63,
   "id": "cbea8e6a-43ae-4137-99b0-aeb925eaa27d",
   "metadata": {},
   "outputs": [
    {
     "name": "stdout",
     "output_type": "stream",
     "text": [
      "Jumlah Data : 153000\n",
      "Jumlah Outliers : 30135\n",
      "Perc Outliers : 19.7 %\n"
     ]
    }
   ],
   "source": [
    "# cek presentase outliers\n",
    "print(\"Jumlah Data :\", len(df))\n",
    "print(\"Jumlah Outliers :\", outliers)\n",
    "print(\"Perc Outliers :\", round((outliers/len(df))*100,2),\"%\")"
   ]
  },
  {
   "cell_type": "code",
   "execution_count": 64,
   "id": "e156eee8-95f6-4955-a26b-31cded7bdf2b",
   "metadata": {},
   "outputs": [
    {
     "name": "stdout",
     "output_type": "stream",
     "text": [
      "Upper Limit: 0.37949999999999995\n"
     ]
    }
   ],
   "source": [
    "# Hitung nilai IQR dan batas atas\n",
    "iqr = df[\"x2\"].quantile(.75) - df['x2'].quantile(.25)\n",
    "upper_limit = df[\"x2\"].quantile(.75) + 1.5 * iqr\n",
    "\n",
    "print(\"Upper Limit:\", upper_limit)"
   ]
  },
  {
   "cell_type": "code",
   "execution_count": 72,
   "id": "5e6a6902-c499-437a-a7a3-ff43ffb928c7",
   "metadata": {},
   "outputs": [
    {
     "data": {
      "text/plain": [
       "0.352"
      ]
     },
     "execution_count": 72,
     "metadata": {},
     "output_type": "execute_result"
    }
   ],
   "source": [
    "# cari batas quantile untuk winsorize\n",
    "df[\"x2\"].quantile(.89)"
   ]
  },
  {
   "cell_type": "code",
   "execution_count": 73,
   "id": "67c1f605-5af3-413f-a0ac-9eae385a7789",
   "metadata": {},
   "outputs": [],
   "source": [
    "# gunakan winsorize dengan bantuan scipy\n",
    "df[\"x2\"] = stats.mstats.winsorize(df[\"x2\"], limits = (0, 0.11))"
   ]
  },
  {
   "cell_type": "code",
   "execution_count": 74,
   "id": "8ac8b325-1059-46a2-8721-5ae309aec0b6",
   "metadata": {},
   "outputs": [
    {
     "data": {
      "image/png": "[encoded data removed]",
      "text/plain": [
       "<Figure size 432x288 with 1 Axes>"
      ]
     },
     "metadata": {
      "needs_background": "light"
     },
     "output_type": "display_data"
    }
   ],
   "source": [
    "# visualisasi dengan boxplot\n",
    "sns.boxplot(data = df[\"x2\"], palette = \"Accent\", orient = 'h')\n",
    "plt.show()"
   ]
  },
  {
   "cell_type": "code",
   "execution_count": 75,
   "id": "3b47d52a-ca2f-4b5d-b737-7d8d51ec2c90",
   "metadata": {},
   "outputs": [
    {
     "name": "stdout",
     "output_type": "stream",
     "text": [
      "Lower Limit: -0.3525\n"
     ]
    }
   ],
   "source": [
    "# Hitung nilai IQR dan batas atas\n",
    "iqr = df[\"x2\"].quantile(.25) - df['x2'].quantile(.75)\n",
    "lower_limit = df[\"x2\"].quantile(.25) + 1.5 * iqr\n",
    "\n",
    "print(\"Lower Limit:\", lower_limit)"
   ]
  },
  {
   "cell_type": "code",
   "execution_count": 86,
   "id": "236de7fb-e208-43a9-aaec-cb69acefab74",
   "metadata": {},
   "outputs": [
    {
     "data": {
      "text/plain": [
       "-0.312"
      ]
     },
     "execution_count": 86,
     "metadata": {},
     "output_type": "execute_result"
    }
   ],
   "source": [
    "# cari batas quantile untuk winsorize\n",
    "df[\"x2\"].quantile(.10)"
   ]
  },
  {
   "cell_type": "code",
   "execution_count": 87,
   "id": "fac203d3-66e4-4c9e-88a9-3c31c29d8c29",
   "metadata": {},
   "outputs": [],
   "source": [
    "# gunakan winsorize dengan bantuan scipy\n",
    "df[\"x2\"] = stats.mstats.winsorize(df[\"x2\"], limits = (0.90, 0))"
   ]
  },
  {
   "cell_type": "code",
   "execution_count": 88,
   "id": "fb91e189-a93a-4581-ab17-5808ff4a0b01",
   "metadata": {},
   "outputs": [
    {
     "data": {
      "image/png": "[encoded data removed]",
      "text/plain": [
       "<Figure size 432x288 with 1 Axes>"
      ]
     },
     "metadata": {
      "needs_background": "light"
     },
     "output_type": "display_data"
    }
   ],
   "source": [
    "# visualisasi dengan boxplot\n",
    "sns.boxplot(data = df[\"x2\"], palette = \"Accent\", orient = 'h')\n",
    "plt.show()"
   ]
  },
  {
   "cell_type": "code",
   "execution_count": 92,
   "id": "2247cb8c-485d-469b-a242-a51eb388018e",
   "metadata": {},
   "outputs": [
    {
     "data": {
      "image/png": "[encoded data removed]",
      "text/plain": [
       "<Figure size 432x288 with 1 Axes>"
      ]
     },
     "metadata": {
      "needs_background": "light"
     },
     "output_type": "display_data"
    }
   ],
   "source": [
    "sns.boxplot(df[\"x3\"])\n",
    "plt.show()"
   ]
  },
  {
   "cell_type": "code",
   "execution_count": 89,
   "id": "5064d33f-413f-41b3-abed-45466eb8974c",
   "metadata": {},
   "outputs": [],
   "source": [
    "# cari outliers dengan fungsi IQR\n",
    "lower_out = find_outliers(df[\"x3\"])[0]\n",
    "upper_out = find_outliers(df[\"x3\"])[1]"
   ]
  },
  {
   "cell_type": "code",
   "execution_count": 90,
   "id": "c871f4bc-f8c8-4966-9cd4-13bb6e4d699b",
   "metadata": {},
   "outputs": [
    {
     "name": "stdout",
     "output_type": "stream",
     "text": [
      "Jumlah Outliers: 43205\n"
     ]
    }
   ],
   "source": [
    "# cek jumlah outliers\n",
    "outliers = len(lower_out) + len(upper_out)\n",
    "print(\"Jumlah Outliers:\", outliers)"
   ]
  },
  {
   "cell_type": "code",
   "execution_count": 91,
   "id": "b44bc9eb-e5cf-4dc2-8d2e-f6ee17847a4c",
   "metadata": {},
   "outputs": [
    {
     "name": "stdout",
     "output_type": "stream",
     "text": [
      "Jumlah Data : 153000\n",
      "Jumlah Outliers : 43205\n",
      "Perc Outliers : 28.24 %\n"
     ]
    }
   ],
   "source": [
    "# cek presentase outliers\n",
    "print(\"Jumlah Data :\", len(df))\n",
    "print(\"Jumlah Outliers :\", outliers)\n",
    "print(\"Perc Outliers :\", round((outliers/len(df))*100,2),\"%\")"
   ]
  },
  {
   "cell_type": "code",
   "execution_count": 93,
   "id": "ce72316b-eaaf-4846-95fb-3c047736226c",
   "metadata": {},
   "outputs": [
    {
     "name": "stdout",
     "output_type": "stream",
     "text": [
      "Upper Limit: 0.09299999999999997\n"
     ]
    }
   ],
   "source": [
    "# Hitung nilai IQR dan batas atas\n",
    "iqr = df[\"x3\"].quantile(.75) - df['x3'].quantile(.25)\n",
    "upper_limit = df[\"x3\"].quantile(.75) + 1.5 * iqr\n",
    "\n",
    "print(\"Upper Limit:\", upper_limit)"
   ]
  },
  {
   "cell_type": "code",
   "execution_count": 100,
   "id": "ef15791c-d942-4881-9543-ec46596f65de",
   "metadata": {},
   "outputs": [
    {
     "data": {
      "text/plain": [
       "0.762"
      ]
     },
     "execution_count": 100,
     "metadata": {},
     "output_type": "execute_result"
    }
   ],
   "source": [
    "# cari batas quantile untuk winsorize\n",
    "df[\"x3\"].quantile(.96)"
   ]
  },
  {
   "cell_type": "code",
   "execution_count": 101,
   "id": "162ec3ed-7a88-4e37-b6a5-b50043a49c1e",
   "metadata": {},
   "outputs": [],
   "source": [
    "# gunakan winsorize dengan bantuan scipy\n",
    "df[\"x3\"] = stats.mstats.winsorize(df[\"x3\"], limits = (0, 0.4))"
   ]
  },
  {
   "cell_type": "code",
   "execution_count": 102,
   "id": "3f3023be-f127-498d-8e09-756f6bccf096",
   "metadata": {},
   "outputs": [
    {
     "data": {
      "image/png": "[encoded data removed]",
      "text/plain": [
       "<Figure size 432x288 with 1 Axes>"
      ]
     },
     "metadata": {
      "needs_background": "light"
     },
     "output_type": "display_data"
    }
   ],
   "source": [
    "# visualisasi dengan boxplot\n",
    "sns.boxplot(data = df[\"x3\"], palette = \"Accent\", orient = 'h')\n",
    "plt.show()"
   ]
  },
  {
   "cell_type": "code",
   "execution_count": 103,
   "id": "5497a77f-4377-4d05-8e9b-84036eef41a6",
   "metadata": {},
   "outputs": [
    {
     "name": "stdout",
     "output_type": "stream",
     "text": [
      "Lower Limit: -0.26049999999999995\n"
     ]
    }
   ],
   "source": [
    "# Hitung nilai IQR dan batas atas\n",
    "iqr = df[\"x3\"].quantile(.25) - df['x3'].quantile(.75)\n",
    "lower_limit = df[\"x3\"].quantile(.25) + 1.5 * iqr\n",
    "\n",
    "print(\"Lower Limit:\", lower_limit)"
   ]
  },
  {
   "cell_type": "code",
   "execution_count": 105,
   "id": "beaeeb05-94fe-4344-aa12-f2b8b7e62976",
   "metadata": {},
   "outputs": [
    {
     "data": {
      "text/plain": [
       "-0.113"
      ]
     },
     "execution_count": 105,
     "metadata": {},
     "output_type": "execute_result"
    }
   ],
   "source": [
    "# cari batas quantile untuk winsorize\n",
    "df[\"x3\"].quantile(.9)"
   ]
  },
  {
   "cell_type": "code",
   "execution_count": 106,
   "id": "5d6e706d-86d9-42bb-af2f-b10b07127e61",
   "metadata": {},
   "outputs": [],
   "source": [
    "# gunakan winsorize dengan bantuan scipy\n",
    "df[\"x3\"] = stats.mstats.winsorize(df[\"x3\"], limits = (0.91, 0))"
   ]
  },
  {
   "cell_type": "code",
   "execution_count": 107,
   "id": "50897950-95fe-4cf6-af40-325044e25b7f",
   "metadata": {},
   "outputs": [
    {
     "data": {
      "image/png": "[encoded data removed]",
      "text/plain": [
       "<Figure size 432x288 with 1 Axes>"
      ]
     },
     "metadata": {
      "needs_background": "light"
     },
     "output_type": "display_data"
    }
   ],
   "source": [
    "# visualisasi dengan boxplot\n",
    "sns.boxplot(data = df[\"x3\"], palette = \"Accent\", orient = 'h')\n",
    "plt.show()"
   ]
  },
  {
   "cell_type": "markdown",
   "id": "37d24717-47de-4d30-80cb-d026ec0812f8",
   "metadata": {},
   "source": [
    "# Feature Engineering"
   ]
  },
  {
   "cell_type": "code",
   "execution_count": 137,
   "id": "7f2dade7-5264-4164-9866-db0092e81ef3",
   "metadata": {},
   "outputs": [],
   "source": [
    "from sklearn.preprocessing import MinMaxScaler,StandardScaler"
   ]
  },
  {
   "cell_type": "code",
   "execution_count": 138,
   "id": "2f982b64-1434-4303-83ef-30ec291ab0aa",
   "metadata": {},
   "outputs": [],
   "source": [
    "standard = StandardScaler()\n",
    "MinMax  = MinMaxScaler()"
   ]
  },
  {
   "cell_type": "code",
   "execution_count": 139,
   "id": "7d3fd954-e9af-44dd-bb89-8fd72cdc1a9a",
   "metadata": {},
   "outputs": [
    {
     "data": {
      "text/html": [
       "<div>\n",
       "<style scoped>\n",
       "    .dataframe tbody tr th:only-of-type {\n",
       "        vertical-align: middle;\n",
       "    }\n",
       "\n",
       "    .dataframe tbody tr th {\n",
       "        vertical-align: top;\n",
       "    }\n",
       "\n",
       "    .dataframe thead th {\n",
       "        text-align: right;\n",
       "    }\n",
       "</style>\n",
       "<table border=\"1\" class=\"dataframe\">\n",
       "  <thead>\n",
       "    <tr style=\"text-align: right;\">\n",
       "      <th></th>\n",
       "      <th>x1</th>\n",
       "      <th>x2</th>\n",
       "      <th>x3</th>\n",
       "    </tr>\n",
       "  </thead>\n",
       "  <tbody>\n",
       "    <tr>\n",
       "      <th>0</th>\n",
       "      <td>-6.661338e-16</td>\n",
       "      <td>-5.551115e-17</td>\n",
       "      <td>1.387779e-17</td>\n",
       "    </tr>\n",
       "    <tr>\n",
       "      <th>1</th>\n",
       "      <td>-6.661338e-16</td>\n",
       "      <td>-5.551115e-17</td>\n",
       "      <td>1.387779e-17</td>\n",
       "    </tr>\n",
       "    <tr>\n",
       "      <th>2</th>\n",
       "      <td>-6.661338e-16</td>\n",
       "      <td>-5.551115e-17</td>\n",
       "      <td>1.387779e-17</td>\n",
       "    </tr>\n",
       "    <tr>\n",
       "      <th>3</th>\n",
       "      <td>-6.661338e-16</td>\n",
       "      <td>-5.551115e-17</td>\n",
       "      <td>1.387779e-17</td>\n",
       "    </tr>\n",
       "    <tr>\n",
       "      <th>4</th>\n",
       "      <td>-6.661338e-16</td>\n",
       "      <td>-5.551115e-17</td>\n",
       "      <td>1.387779e-17</td>\n",
       "    </tr>\n",
       "    <tr>\n",
       "      <th>...</th>\n",
       "      <td>...</td>\n",
       "      <td>...</td>\n",
       "      <td>...</td>\n",
       "    </tr>\n",
       "    <tr>\n",
       "      <th>152995</th>\n",
       "      <td>-6.661338e-16</td>\n",
       "      <td>-5.551115e-17</td>\n",
       "      <td>1.387779e-17</td>\n",
       "    </tr>\n",
       "    <tr>\n",
       "      <th>152996</th>\n",
       "      <td>-6.661338e-16</td>\n",
       "      <td>-5.551115e-17</td>\n",
       "      <td>1.387779e-17</td>\n",
       "    </tr>\n",
       "    <tr>\n",
       "      <th>152997</th>\n",
       "      <td>-6.661338e-16</td>\n",
       "      <td>-5.551115e-17</td>\n",
       "      <td>1.387779e-17</td>\n",
       "    </tr>\n",
       "    <tr>\n",
       "      <th>152998</th>\n",
       "      <td>-6.661338e-16</td>\n",
       "      <td>-5.551115e-17</td>\n",
       "      <td>1.387779e-17</td>\n",
       "    </tr>\n",
       "    <tr>\n",
       "      <th>152999</th>\n",
       "      <td>-6.661338e-16</td>\n",
       "      <td>-5.551115e-17</td>\n",
       "      <td>1.387779e-17</td>\n",
       "    </tr>\n",
       "  </tbody>\n",
       "</table>\n",
       "<p>153000 rows × 3 columns</p>\n",
       "</div>"
      ],
      "text/plain": [
       "                  x1            x2            x3\n",
       "0      -6.661338e-16 -5.551115e-17  1.387779e-17\n",
       "1      -6.661338e-16 -5.551115e-17  1.387779e-17\n",
       "2      -6.661338e-16 -5.551115e-17  1.387779e-17\n",
       "3      -6.661338e-16 -5.551115e-17  1.387779e-17\n",
       "4      -6.661338e-16 -5.551115e-17  1.387779e-17\n",
       "...              ...           ...           ...\n",
       "152995 -6.661338e-16 -5.551115e-17  1.387779e-17\n",
       "152996 -6.661338e-16 -5.551115e-17  1.387779e-17\n",
       "152997 -6.661338e-16 -5.551115e-17  1.387779e-17\n",
       "152998 -6.661338e-16 -5.551115e-17  1.387779e-17\n",
       "152999 -6.661338e-16 -5.551115e-17  1.387779e-17\n",
       "\n",
       "[153000 rows x 3 columns]"
      ]
     },
     "execution_count": 139,
     "metadata": {},
     "output_type": "execute_result"
    }
   ],
   "source": [
    "# standarScaler\n",
    "X_standard = standard.fit_transform(X)\n",
    "X_standard = pd.DataFrame(X_standard, columns=['x1','x2','x3'])\n",
    "X_standard"
   ]
  },
  {
   "cell_type": "code",
   "execution_count": 140,
   "id": "139ccb63-9963-4ed4-9f1d-e41d8c86372c",
   "metadata": {},
   "outputs": [
    {
     "data": {
      "text/html": [
       "<div>\n",
       "<style scoped>\n",
       "    .dataframe tbody tr th:only-of-type {\n",
       "        vertical-align: middle;\n",
       "    }\n",
       "\n",
       "    .dataframe tbody tr th {\n",
       "        vertical-align: top;\n",
       "    }\n",
       "\n",
       "    .dataframe thead th {\n",
       "        text-align: right;\n",
       "    }\n",
       "</style>\n",
       "<table border=\"1\" class=\"dataframe\">\n",
       "  <thead>\n",
       "    <tr style=\"text-align: right;\">\n",
       "      <th></th>\n",
       "      <th>x1</th>\n",
       "      <th>x2</th>\n",
       "      <th>x3</th>\n",
       "    </tr>\n",
       "  </thead>\n",
       "  <tbody>\n",
       "    <tr>\n",
       "      <th>count</th>\n",
       "      <td>1.530000e+05</td>\n",
       "      <td>1.530000e+05</td>\n",
       "      <td>1.530000e+05</td>\n",
       "    </tr>\n",
       "    <tr>\n",
       "      <th>mean</th>\n",
       "      <td>-6.661338e-16</td>\n",
       "      <td>-5.551115e-17</td>\n",
       "      <td>1.387779e-17</td>\n",
       "    </tr>\n",
       "    <tr>\n",
       "      <th>std</th>\n",
       "      <td>0.000000e+00</td>\n",
       "      <td>0.000000e+00</td>\n",
       "      <td>0.000000e+00</td>\n",
       "    </tr>\n",
       "    <tr>\n",
       "      <th>min</th>\n",
       "      <td>-6.661338e-16</td>\n",
       "      <td>-5.551115e-17</td>\n",
       "      <td>1.387779e-17</td>\n",
       "    </tr>\n",
       "    <tr>\n",
       "      <th>25%</th>\n",
       "      <td>-6.661338e-16</td>\n",
       "      <td>-5.551115e-17</td>\n",
       "      <td>1.387779e-17</td>\n",
       "    </tr>\n",
       "    <tr>\n",
       "      <th>50%</th>\n",
       "      <td>-6.661338e-16</td>\n",
       "      <td>-5.551115e-17</td>\n",
       "      <td>1.387779e-17</td>\n",
       "    </tr>\n",
       "    <tr>\n",
       "      <th>75%</th>\n",
       "      <td>-6.661338e-16</td>\n",
       "      <td>-5.551115e-17</td>\n",
       "      <td>1.387779e-17</td>\n",
       "    </tr>\n",
       "    <tr>\n",
       "      <th>max</th>\n",
       "      <td>-6.661338e-16</td>\n",
       "      <td>-5.551115e-17</td>\n",
       "      <td>1.387779e-17</td>\n",
       "    </tr>\n",
       "  </tbody>\n",
       "</table>\n",
       "</div>"
      ],
      "text/plain": [
       "                 x1            x2            x3\n",
       "count  1.530000e+05  1.530000e+05  1.530000e+05\n",
       "mean  -6.661338e-16 -5.551115e-17  1.387779e-17\n",
       "std    0.000000e+00  0.000000e+00  0.000000e+00\n",
       "min   -6.661338e-16 -5.551115e-17  1.387779e-17\n",
       "25%   -6.661338e-16 -5.551115e-17  1.387779e-17\n",
       "50%   -6.661338e-16 -5.551115e-17  1.387779e-17\n",
       "75%   -6.661338e-16 -5.551115e-17  1.387779e-17\n",
       "max   -6.661338e-16 -5.551115e-17  1.387779e-17"
      ]
     },
     "execution_count": 140,
     "metadata": {},
     "output_type": "execute_result"
    }
   ],
   "source": [
    "X_standard.describe()"
   ]
  },
  {
   "cell_type": "code",
   "execution_count": 141,
   "id": "d971eb2b-ad39-4e40-8bc0-6780b651e5a4",
   "metadata": {},
   "outputs": [
    {
     "data": {
      "text/plain": [
       "<AxesSubplot:xlabel='x2', ylabel='Density'>"
      ]
     },
     "execution_count": 141,
     "metadata": {},
     "output_type": "execute_result"
    },
    {
     "data": {
      "image/png": "[encoded data removed]",
      "text/plain": [
       "<Figure size 720x288 with 2 Axes>"
      ]
     },
     "metadata": {
      "needs_background": "light"
     },
     "output_type": "display_data"
    }
   ],
   "source": [
    "plt.figure(figsize = (10,4))\n",
    "plt.subplot(1,2,1)\n",
    "sns.distplot(X_standard['x1'])\n",
    "plt.subplot(1,2,2)\n",
    "sns.distplot(X_standard['x2'])\n"
   ]
  },
  {
   "cell_type": "code",
   "execution_count": 142,
   "id": "eefb3633-b059-45ee-826c-a0842ca1ab7b",
   "metadata": {},
   "outputs": [],
   "source": [
    "X_train,x_test,y_train,y_test = train_test_split(X_standard,y,test_size=0.3,random_state=42)"
   ]
  },
  {
   "cell_type": "code",
   "execution_count": 143,
   "id": "94a3d2c8-a524-4418-b2fb-8f8111046d18",
   "metadata": {},
   "outputs": [
    {
     "data": {
      "text/html": [
       "<style>#sk-container-id-3 {color: black;background-color: white;}#sk-container-id-3 pre{padding: 0;}#sk-container-id-3 div.sk-toggleable {background-color: white;}#sk-container-id-3 label.sk-toggleable__label {cursor: pointer;display: block;width: 100%;margin-bottom: 0;padding: 0.3em;box-sizing: border-box;text-align: center;}#sk-container-id-3 label.sk-toggleable__label-arrow:before {content: \"▸\";float: left;margin-right: 0.25em;color: #696969;}#sk-container-id-3 label.sk-toggleable__label-arrow:hover:before {color: black;}#sk-container-id-3 div.sk-estimator:hover label.sk-toggleable__label-arrow:before {color: black;}#sk-container-id-3 div.sk-toggleable__content {max-height: 0;max-width: 0;overflow: hidden;text-align: left;background-color: #f0f8ff;}#sk-container-id-3 div.sk-toggleable__content pre {margin: 0.2em;color: black;border-radius: 0.25em;background-color: #f0f8ff;}#sk-container-id-3 input.sk-toggleable__control:checked~div.sk-toggleable__content {max-height: 200px;max-width: 100%;overflow: auto;}#sk-container-id-3 input.sk-toggleable__control:checked~label.sk-toggleable__label-arrow:before {content: \"▾\";}#sk-container-id-3 div.sk-estimator input.sk-toggleable__control:checked~label.sk-toggleable__label {background-color: #d4ebff;}#sk-container-id-3 div.sk-label input.sk-toggleable__control:checked~label.sk-toggleable__label {background-color: #d4ebff;}#sk-container-id-3 input.sk-hidden--visually {border: 0;clip: rect(1px 1px 1px 1px);clip: rect(1px, 1px, 1px, 1px);height: 1px;margin: -1px;overflow: hidden;padding: 0;position: absolute;width: 1px;}#sk-container-id-3 div.sk-estimator {font-family: monospace;background-color: #f0f8ff;border: 1px dotted black;border-radius: 0.25em;box-sizing: border-box;margin-bottom: 0.5em;}#sk-container-id-3 div.sk-estimator:hover {background-color: #d4ebff;}#sk-container-id-3 div.sk-parallel-item::after {content: \"\";width: 100%;border-bottom: 1px solid gray;flex-grow: 1;}#sk-container-id-3 div.sk-label:hover label.sk-toggleable__label {background-color: #d4ebff;}#sk-container-id-3 div.sk-serial::before {content: \"\";position: absolute;border-left: 1px solid gray;box-sizing: border-box;top: 0;bottom: 0;left: 50%;z-index: 0;}#sk-container-id-3 div.sk-serial {display: flex;flex-direction: column;align-items: center;background-color: white;padding-right: 0.2em;padding-left: 0.2em;position: relative;}#sk-container-id-3 div.sk-item {position: relative;z-index: 1;}#sk-container-id-3 div.sk-parallel {display: flex;align-items: stretch;justify-content: center;background-color: white;position: relative;}#sk-container-id-3 div.sk-item::before, #sk-container-id-3 div.sk-parallel-item::before {content: \"\";position: absolute;border-left: 1px solid gray;box-sizing: border-box;top: 0;bottom: 0;left: 50%;z-index: -1;}#sk-container-id-3 div.sk-parallel-item {display: flex;flex-direction: column;z-index: 1;position: relative;background-color: white;}#sk-container-id-3 div.sk-parallel-item:first-child::after {align-self: flex-end;width: 50%;}#sk-container-id-3 div.sk-parallel-item:last-child::after {align-self: flex-start;width: 50%;}#sk-container-id-3 div.sk-parallel-item:only-child::after {width: 0;}#sk-container-id-3 div.sk-dashed-wrapped {border: 1px dashed gray;margin: 0 0.4em 0.5em 0.4em;box-sizing: border-box;padding-bottom: 0.4em;background-color: white;}#sk-container-id-3 div.sk-label label {font-family: monospace;font-weight: bold;display: inline-block;line-height: 1.2em;}#sk-container-id-3 div.sk-label-container {text-align: center;}#sk-container-id-3 div.sk-container {/* jupyter's `normalize.less` sets `[hidden] { display: none; }` but bootstrap.min.css set `[hidden] { display: none !important; }` so we also need the `!important` here to be able to override the default hidden behavior on the sphinx rendered scikit-learn.org. See: https://github.com/scikit-learn/scikit-learn/issues/21755 */display: inline-block !important;position: relative;}#sk-container-id-3 div.sk-text-repr-fallback {display: none;}</style><div id=\"sk-container-id-3\" class=\"sk-top-container\"><div class=\"sk-text-repr-fallback\"><pre>KNeighborsClassifier()</pre><b>In a Jupyter environment, please rerun this cell to show the HTML representation or trust the notebook. <br />On GitHub, the HTML representation is unable to render, please try loading this page with nbviewer.org.</b></div><div class=\"sk-container\" hidden><div class=\"sk-item\"><div class=\"sk-estimator sk-toggleable\"><input class=\"sk-toggleable__control sk-hidden--visually\" id=\"sk-estimator-id-3\" type=\"checkbox\" checked><label for=\"sk-estimator-id-3\" class=\"sk-toggleable__label sk-toggleable__label-arrow\">KNeighborsClassifier</label><div class=\"sk-toggleable__content\"><pre>KNeighborsClassifier()</pre></div></div></div></div></div>"
      ],
      "text/plain": [
       "KNeighborsClassifier()"
      ]
     },
     "execution_count": 143,
     "metadata": {},
     "output_type": "execute_result"
    }
   ],
   "source": [
    "K = 5\n",
    "model = KNeighborsClassifier(n_neighbors=K)\n",
    "model.fit(X_train,y_train)"
   ]
  },
  {
   "cell_type": "code",
   "execution_count": 144,
   "id": "f6b3114e-2695-4ba5-8370-52da0e57472a",
   "metadata": {},
   "outputs": [],
   "source": [
    "y_pred = model.predict(x_test)"
   ]
  },
  {
   "cell_type": "code",
   "execution_count": 145,
   "id": "6a15a414-9733-4260-aad5-26d5d9d47113",
   "metadata": {},
   "outputs": [
    {
     "name": "stdout",
     "output_type": "stream",
     "text": [
      "              precision    recall  f1-score   support\n",
      "\n",
      "           1       0.33      1.00      0.50     15253\n",
      "           2       0.00      0.00      0.00     15301\n",
      "           3       0.00      0.00      0.00     15346\n",
      "\n",
      "    accuracy                           0.33     45900\n",
      "   macro avg       0.11      0.33      0.17     45900\n",
      "weighted avg       0.11      0.33      0.17     45900\n",
      "\n"
     ]
    }
   ],
   "source": [
    "from sklearn.metrics import classification_report\n",
    "print(classification_report(y_test, y_pred))"
   ]
  },
  {
   "cell_type": "code",
   "execution_count": 146,
   "id": "8a10f84c-5ba4-4046-817a-116b4bee3c1a",
   "metadata": {},
   "outputs": [
    {
     "data": {
      "text/html": [
       "<div>\n",
       "<style scoped>\n",
       "    .dataframe tbody tr th:only-of-type {\n",
       "        vertical-align: middle;\n",
       "    }\n",
       "\n",
       "    .dataframe tbody tr th {\n",
       "        vertical-align: top;\n",
       "    }\n",
       "\n",
       "    .dataframe thead th {\n",
       "        text-align: right;\n",
       "    }\n",
       "</style>\n",
       "<table border=\"1\" class=\"dataframe\">\n",
       "  <thead>\n",
       "    <tr style=\"text-align: right;\">\n",
       "      <th></th>\n",
       "      <th>x1</th>\n",
       "      <th>x2</th>\n",
       "      <th>x3</th>\n",
       "    </tr>\n",
       "  </thead>\n",
       "  <tbody>\n",
       "    <tr>\n",
       "      <th>0</th>\n",
       "      <td>0.0</td>\n",
       "      <td>0.0</td>\n",
       "      <td>0.0</td>\n",
       "    </tr>\n",
       "    <tr>\n",
       "      <th>1</th>\n",
       "      <td>0.0</td>\n",
       "      <td>0.0</td>\n",
       "      <td>0.0</td>\n",
       "    </tr>\n",
       "    <tr>\n",
       "      <th>2</th>\n",
       "      <td>0.0</td>\n",
       "      <td>0.0</td>\n",
       "      <td>0.0</td>\n",
       "    </tr>\n",
       "    <tr>\n",
       "      <th>3</th>\n",
       "      <td>0.0</td>\n",
       "      <td>0.0</td>\n",
       "      <td>0.0</td>\n",
       "    </tr>\n",
       "    <tr>\n",
       "      <th>4</th>\n",
       "      <td>0.0</td>\n",
       "      <td>0.0</td>\n",
       "      <td>0.0</td>\n",
       "    </tr>\n",
       "    <tr>\n",
       "      <th>...</th>\n",
       "      <td>...</td>\n",
       "      <td>...</td>\n",
       "      <td>...</td>\n",
       "    </tr>\n",
       "    <tr>\n",
       "      <th>152995</th>\n",
       "      <td>0.0</td>\n",
       "      <td>0.0</td>\n",
       "      <td>0.0</td>\n",
       "    </tr>\n",
       "    <tr>\n",
       "      <th>152996</th>\n",
       "      <td>0.0</td>\n",
       "      <td>0.0</td>\n",
       "      <td>0.0</td>\n",
       "    </tr>\n",
       "    <tr>\n",
       "      <th>152997</th>\n",
       "      <td>0.0</td>\n",
       "      <td>0.0</td>\n",
       "      <td>0.0</td>\n",
       "    </tr>\n",
       "    <tr>\n",
       "      <th>152998</th>\n",
       "      <td>0.0</td>\n",
       "      <td>0.0</td>\n",
       "      <td>0.0</td>\n",
       "    </tr>\n",
       "    <tr>\n",
       "      <th>152999</th>\n",
       "      <td>0.0</td>\n",
       "      <td>0.0</td>\n",
       "      <td>0.0</td>\n",
       "    </tr>\n",
       "  </tbody>\n",
       "</table>\n",
       "<p>153000 rows × 3 columns</p>\n",
       "</div>"
      ],
      "text/plain": [
       "         x1   x2   x3\n",
       "0       0.0  0.0  0.0\n",
       "1       0.0  0.0  0.0\n",
       "2       0.0  0.0  0.0\n",
       "3       0.0  0.0  0.0\n",
       "4       0.0  0.0  0.0\n",
       "...     ...  ...  ...\n",
       "152995  0.0  0.0  0.0\n",
       "152996  0.0  0.0  0.0\n",
       "152997  0.0  0.0  0.0\n",
       "152998  0.0  0.0  0.0\n",
       "152999  0.0  0.0  0.0\n",
       "\n",
       "[153000 rows x 3 columns]"
      ]
     },
     "execution_count": 146,
     "metadata": {},
     "output_type": "execute_result"
    }
   ],
   "source": [
    "# standarScaler\n",
    "X_MinMax= MinMax.fit_transform(X)\n",
    "X_MinMax = pd.DataFrame(X_MinMax, columns=['x1','x2','x3'])\n",
    "X_MinMax\n"
   ]
  },
  {
   "cell_type": "code",
   "execution_count": 147,
   "id": "34c3b50f-698c-4031-894b-5019e14c9851",
   "metadata": {},
   "outputs": [
    {
     "data": {
      "text/html": [
       "<div>\n",
       "<style scoped>\n",
       "    .dataframe tbody tr th:only-of-type {\n",
       "        vertical-align: middle;\n",
       "    }\n",
       "\n",
       "    .dataframe tbody tr th {\n",
       "        vertical-align: top;\n",
       "    }\n",
       "\n",
       "    .dataframe thead th {\n",
       "        text-align: right;\n",
       "    }\n",
       "</style>\n",
       "<table border=\"1\" class=\"dataframe\">\n",
       "  <thead>\n",
       "    <tr style=\"text-align: right;\">\n",
       "      <th></th>\n",
       "      <th>x1</th>\n",
       "      <th>x2</th>\n",
       "      <th>x3</th>\n",
       "    </tr>\n",
       "  </thead>\n",
       "  <tbody>\n",
       "    <tr>\n",
       "      <th>count</th>\n",
       "      <td>153000.0</td>\n",
       "      <td>153000.0</td>\n",
       "      <td>153000.0</td>\n",
       "    </tr>\n",
       "    <tr>\n",
       "      <th>mean</th>\n",
       "      <td>0.0</td>\n",
       "      <td>0.0</td>\n",
       "      <td>0.0</td>\n",
       "    </tr>\n",
       "    <tr>\n",
       "      <th>std</th>\n",
       "      <td>0.0</td>\n",
       "      <td>0.0</td>\n",
       "      <td>0.0</td>\n",
       "    </tr>\n",
       "    <tr>\n",
       "      <th>min</th>\n",
       "      <td>0.0</td>\n",
       "      <td>0.0</td>\n",
       "      <td>0.0</td>\n",
       "    </tr>\n",
       "    <tr>\n",
       "      <th>25%</th>\n",
       "      <td>0.0</td>\n",
       "      <td>0.0</td>\n",
       "      <td>0.0</td>\n",
       "    </tr>\n",
       "    <tr>\n",
       "      <th>50%</th>\n",
       "      <td>0.0</td>\n",
       "      <td>0.0</td>\n",
       "      <td>0.0</td>\n",
       "    </tr>\n",
       "    <tr>\n",
       "      <th>75%</th>\n",
       "      <td>0.0</td>\n",
       "      <td>0.0</td>\n",
       "      <td>0.0</td>\n",
       "    </tr>\n",
       "    <tr>\n",
       "      <th>max</th>\n",
       "      <td>0.0</td>\n",
       "      <td>0.0</td>\n",
       "      <td>0.0</td>\n",
       "    </tr>\n",
       "  </tbody>\n",
       "</table>\n",
       "</div>"
      ],
      "text/plain": [
       "             x1        x2        x3\n",
       "count  153000.0  153000.0  153000.0\n",
       "mean        0.0       0.0       0.0\n",
       "std         0.0       0.0       0.0\n",
       "min         0.0       0.0       0.0\n",
       "25%         0.0       0.0       0.0\n",
       "50%         0.0       0.0       0.0\n",
       "75%         0.0       0.0       0.0\n",
       "max         0.0       0.0       0.0"
      ]
     },
     "execution_count": 147,
     "metadata": {},
     "output_type": "execute_result"
    }
   ],
   "source": [
    "X_MinMax.describe()"
   ]
  },
  {
   "cell_type": "code",
   "execution_count": 148,
   "id": "007a5ac8-12d5-494a-bbb9-ef453f4d24d9",
   "metadata": {},
   "outputs": [
    {
     "data": {
      "text/plain": [
       "<AxesSubplot:xlabel='x2', ylabel='Density'>"
      ]
     },
     "execution_count": 148,
     "metadata": {},
     "output_type": "execute_result"
    },
    {
     "data": {
      "image/png": "[encoded data removed]",
      "text/plain": [
       "<Figure size 720x288 with 2 Axes>"
      ]
     },
     "metadata": {
      "needs_background": "light"
     },
     "output_type": "display_data"
    }
   ],
   "source": [
    "plt.figure(figsize=(10,4))\n",
    "plt.subplot(1,2,1)\n",
    "sns.distplot(X_MinMax['x1'])\n",
    "plt.subplot(1,2,2)\n",
    "sns.distplot(X_MinMax['x2'])\n"
   ]
  },
  {
   "cell_type": "code",
   "execution_count": 149,
   "id": "896892d6-4ddb-40eb-91e1-77a330fe0bb4",
   "metadata": {},
   "outputs": [
    {
     "data": {
      "text/plain": [
       "<AxesSubplot:xlabel='x3', ylabel='Density'>"
      ]
     },
     "execution_count": 149,
     "metadata": {},
     "output_type": "execute_result"
    },
    {
     "data": {
      "image/png": "[encoded data removed]",
      "text/plain": [
       "<Figure size 720x288 with 1 Axes>"
      ]
     },
     "metadata": {
      "needs_background": "light"
     },
     "output_type": "display_data"
    }
   ],
   "source": [
    "plt.figure(figsize=(10,4))\n",
    "plt.subplot(1,2,1)\n",
    "sns.distplot(X_MinMax['x3'])"
   ]
  },
  {
   "cell_type": "code",
   "execution_count": 150,
   "id": "7e1026f8-da0b-4dbb-b17c-016219929651",
   "metadata": {},
   "outputs": [],
   "source": [
    "X_train,x_test,y_train,y_test = train_test_split(X_MinMax,y,test_size=0.3,random_state=42)"
   ]
  },
  {
   "cell_type": "code",
   "execution_count": 151,
   "id": "311918dc-d836-4d3e-8986-bb6bfd92eeb2",
   "metadata": {},
   "outputs": [
    {
     "data": {
      "text/html": [
       "<style>#sk-container-id-4 {color: black;background-color: white;}#sk-container-id-4 pre{padding: 0;}#sk-container-id-4 div.sk-toggleable {background-color: white;}#sk-container-id-4 label.sk-toggleable__label {cursor: pointer;display: block;width: 100%;margin-bottom: 0;padding: 0.3em;box-sizing: border-box;text-align: center;}#sk-container-id-4 label.sk-toggleable__label-arrow:before {content: \"▸\";float: left;margin-right: 0.25em;color: #696969;}#sk-container-id-4 label.sk-toggleable__label-arrow:hover:before {color: black;}#sk-container-id-4 div.sk-estimator:hover label.sk-toggleable__label-arrow:before {color: black;}#sk-container-id-4 div.sk-toggleable__content {max-height: 0;max-width: 0;overflow: hidden;text-align: left;background-color: #f0f8ff;}#sk-container-id-4 div.sk-toggleable__content pre {margin: 0.2em;color: black;border-radius: 0.25em;background-color: #f0f8ff;}#sk-container-id-4 input.sk-toggleable__control:checked~div.sk-toggleable__content {max-height: 200px;max-width: 100%;overflow: auto;}#sk-container-id-4 input.sk-toggleable__control:checked~label.sk-toggleable__label-arrow:before {content: \"▾\";}#sk-container-id-4 div.sk-estimator input.sk-toggleable__control:checked~label.sk-toggleable__label {background-color: #d4ebff;}#sk-container-id-4 div.sk-label input.sk-toggleable__control:checked~label.sk-toggleable__label {background-color: #d4ebff;}#sk-container-id-4 input.sk-hidden--visually {border: 0;clip: rect(1px 1px 1px 1px);clip: rect(1px, 1px, 1px, 1px);height: 1px;margin: -1px;overflow: hidden;padding: 0;position: absolute;width: 1px;}#sk-container-id-4 div.sk-estimator {font-family: monospace;background-color: #f0f8ff;border: 1px dotted black;border-radius: 0.25em;box-sizing: border-box;margin-bottom: 0.5em;}#sk-container-id-4 div.sk-estimator:hover {background-color: #d4ebff;}#sk-container-id-4 div.sk-parallel-item::after {content: \"\";width: 100%;border-bottom: 1px solid gray;flex-grow: 1;}#sk-container-id-4 div.sk-label:hover label.sk-toggleable__label {background-color: #d4ebff;}#sk-container-id-4 div.sk-serial::before {content: \"\";position: absolute;border-left: 1px solid gray;box-sizing: border-box;top: 0;bottom: 0;left: 50%;z-index: 0;}#sk-container-id-4 div.sk-serial {display: flex;flex-direction: column;align-items: center;background-color: white;padding-right: 0.2em;padding-left: 0.2em;position: relative;}#sk-container-id-4 div.sk-item {position: relative;z-index: 1;}#sk-container-id-4 div.sk-parallel {display: flex;align-items: stretch;justify-content: center;background-color: white;position: relative;}#sk-container-id-4 div.sk-item::before, #sk-container-id-4 div.sk-parallel-item::before {content: \"\";position: absolute;border-left: 1px solid gray;box-sizing: border-box;top: 0;bottom: 0;left: 50%;z-index: -1;}#sk-container-id-4 div.sk-parallel-item {display: flex;flex-direction: column;z-index: 1;position: relative;background-color: white;}#sk-container-id-4 div.sk-parallel-item:first-child::after {align-self: flex-end;width: 50%;}#sk-container-id-4 div.sk-parallel-item:last-child::after {align-self: flex-start;width: 50%;}#sk-container-id-4 div.sk-parallel-item:only-child::after {width: 0;}#sk-container-id-4 div.sk-dashed-wrapped {border: 1px dashed gray;margin: 0 0.4em 0.5em 0.4em;box-sizing: border-box;padding-bottom: 0.4em;background-color: white;}#sk-container-id-4 div.sk-label label {font-family: monospace;font-weight: bold;display: inline-block;line-height: 1.2em;}#sk-container-id-4 div.sk-label-container {text-align: center;}#sk-container-id-4 div.sk-container {/* jupyter's `normalize.less` sets `[hidden] { display: none; }` but bootstrap.min.css set `[hidden] { display: none !important; }` so we also need the `!important` here to be able to override the default hidden behavior on the sphinx rendered scikit-learn.org. See: https://github.com/scikit-learn/scikit-learn/issues/21755 */display: inline-block !important;position: relative;}#sk-container-id-4 div.sk-text-repr-fallback {display: none;}</style><div id=\"sk-container-id-4\" class=\"sk-top-container\"><div class=\"sk-text-repr-fallback\"><pre>KNeighborsClassifier()</pre><b>In a Jupyter environment, please rerun this cell to show the HTML representation or trust the notebook. <br />On GitHub, the HTML representation is unable to render, please try loading this page with nbviewer.org.</b></div><div class=\"sk-container\" hidden><div class=\"sk-item\"><div class=\"sk-estimator sk-toggleable\"><input class=\"sk-toggleable__control sk-hidden--visually\" id=\"sk-estimator-id-4\" type=\"checkbox\" checked><label for=\"sk-estimator-id-4\" class=\"sk-toggleable__label sk-toggleable__label-arrow\">KNeighborsClassifier</label><div class=\"sk-toggleable__content\"><pre>KNeighborsClassifier()</pre></div></div></div></div></div>"
      ],
      "text/plain": [
       "KNeighborsClassifier()"
      ]
     },
     "execution_count": 151,
     "metadata": {},
     "output_type": "execute_result"
    }
   ],
   "source": [
    "K = 5\n",
    "model = KNeighborsClassifier(n_neighbors=K)\n",
    "model.fit(X_train,y_train)"
   ]
  },
  {
   "cell_type": "code",
   "execution_count": 152,
   "id": "7c02d5e7-19c1-4539-a839-95a2b6c197a4",
   "metadata": {},
   "outputs": [],
   "source": [
    "y_pred = model.predict(x_test)"
   ]
  },
  {
   "cell_type": "code",
   "execution_count": 153,
   "id": "b8ec6335-796d-4fcd-9a19-dd16cd9eb9f4",
   "metadata": {},
   "outputs": [
    {
     "name": "stdout",
     "output_type": "stream",
     "text": [
      "              precision    recall  f1-score   support\n",
      "\n",
      "           1       0.33      1.00      0.50     15253\n",
      "           2       0.00      0.00      0.00     15301\n",
      "           3       0.00      0.00      0.00     15346\n",
      "\n",
      "    accuracy                           0.33     45900\n",
      "   macro avg       0.11      0.33      0.17     45900\n",
      "weighted avg       0.11      0.33      0.17     45900\n",
      "\n"
     ]
    }
   ],
   "source": [
    "from sklearn.metrics import classification_report\n",
    "print(classification_report(y_test, y_pred))"
   ]
  },
  {
   "cell_type": "code",
   "execution_count": null,
   "id": "f29e7759-85f9-4b95-a37a-e2c954838921",
   "metadata": {},
   "outputs": [],
   "source": []
  }
 ],
 "metadata": {
  "kernelspec": {
   "display_name": "Python 3 (ipykernel)",
   "language": "python",
   "name": "python3"
  },
  "language_info": {
   "codemirror_mode": {
    "name": "ipython",
    "version": 3
   },
   "file_extension": ".py",
   "mimetype": "text/x-python",
   "name": "python",
   "nbconvert_exporter": "python",
   "pygments_lexer": "ipython3",
   "version": "3.9.12"
  }
 },
 "nbformat": 4,
 "nbformat_minor": 5
}
